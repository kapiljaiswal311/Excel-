{
  "nbformat": 4,
  "nbformat_minor": 0,
  "metadata": {
    "colab": {
      "provenance": [],
      "authorship_tag": "ABX9TyO67sYdD8Z2/TV8hQfoTZ21",
      "include_colab_link": true
    },
    "kernelspec": {
      "name": "python3",
      "display_name": "Python 3"
    },
    "language_info": {
      "name": "python"
    }
  },
  "cells": [
    {
      "cell_type": "markdown",
      "metadata": {
        "id": "view-in-github",
        "colab_type": "text"
      },
      "source": [
        "<a href=\"https://colab.research.google.com/github/kapiljaiswal311/Excel-/blob/main/datatypes.ipynb\" target=\"_parent\"><img src=\"https://colab.research.google.com/assets/colab-badge.svg\" alt=\"Open In Colab\"/></a>"
      ]
    },
    {
      "cell_type": "code",
      "execution_count": null,
      "metadata": {
        "colab": {
          "base_uri": "https://localhost:8080/"
        },
        "id": "Jw7aLtwLbLh6",
        "outputId": "334389d3-69a8-4aff-ea1c-48d1cb21d0fd"
      },
      "outputs": [
        {
          "output_type": "stream",
          "name": "stdout",
          "text": [
            "10\n",
            "20\n",
            "1000\n",
            "26\n"
          ]
        }
      ],
      "source": [
        "a = 10\n",
        "b = 20\n",
        "c = 1000\n",
        "\n",
        "print(a)\n",
        "print(b)\n",
        "print(c)\n",
        "\n",
        "kapil_age = 26\n",
        "shubham_age = 26\n",
        "kumudini_age = 45\n",
        "\n",
        "print(kapil_age)\n"
      ]
    },
    {
      "cell_type": "markdown",
      "source": [],
      "metadata": {
        "id": "lfUadpCfeTfz"
      }
    },
    {
      "cell_type": "code",
      "source": [
        "name = \"coachx\"\n",
        "print (name)"
      ],
      "metadata": {
        "colab": {
          "base_uri": "https://localhost:8080/"
        },
        "id": "bi1AfmpfeYMv",
        "outputId": "446f0d77-b803-4a79-84ca-ff88a096291e"
      },
      "execution_count": null,
      "outputs": [
        {
          "output_type": "stream",
          "name": "stdout",
          "text": [
            "coachx\n"
          ]
        }
      ]
    },
    {
      "cell_type": "code",
      "source": [
        "emp_id = [1,2,3,4,5,6,7,8,9,10]\n",
        "print(emp_id)\n",
        "\n",
        "\n",
        "\n",
        "\n",
        "\n",
        "\n",
        "\n",
        "\n",
        "\n",
        "\n",
        "\n",
        "\n"
      ],
      "metadata": {
        "colab": {
          "base_uri": "https://localhost:8080/"
        },
        "id": "8ppErvk1hSY4",
        "outputId": "c94ff92e-b7d1-44ba-cf9a-cef1434f5cf4"
      },
      "execution_count": null,
      "outputs": [
        {
          "output_type": "stream",
          "name": "stdout",
          "text": [
            "[1, 2, 3, 4, 5, 6, 7, 8, 9, 10]\n"
          ]
        }
      ]
    },
    {
      "cell_type": "code",
      "source": [
        "d1 = {\n",
        "\n",
        "      \"name\":\"kapil\",\n",
        "      \"age\":\"26\",\n",
        "      \"contact\":\"99885456\",\n",
        "      \"location\":\"chh sambhajinagr\",\n",
        "      \"empty\":\" \"\n",
        "\n",
        "\n",
        "\n",
        "}\n",
        "print(d1)"
      ],
      "metadata": {
        "colab": {
          "base_uri": "https://localhost:8080/"
        },
        "id": "pSb1AYtBn8x2",
        "outputId": "23947945-119d-481d-edb4-df9552b46ba9"
      },
      "execution_count": null,
      "outputs": [
        {
          "output_type": "stream",
          "name": "stdout",
          "text": [
            "{'name': 'kapil', 'age': '26', 'contact': '99885456', 'location': 'chh sambhajinagr', 'empty': ' '}\n"
          ]
        }
      ]
    },
    {
      "cell_type": "code",
      "source": [
        "t1 = (1,2,3,4,5,6,7,8)\n",
        "print(t1)\n",
        "\n",
        "t2 = (\"shubham\", 1,2,3,4,5,6, 'kapil', 2)\n",
        "print(t2)\n",
        "\n"
      ],
      "metadata": {
        "colab": {
          "base_uri": "https://localhost:8080/"
        },
        "id": "gFsi0MuRqeT8",
        "outputId": "9df5e139-631e-472c-cfa6-9744365e72d9"
      },
      "execution_count": null,
      "outputs": [
        {
          "output_type": "stream",
          "name": "stdout",
          "text": [
            "(1, 2, 3, 4, 5, 6, 7, 8)\n",
            "('shubham', 1, 2, 3, 4, 5, 6, 'kapil', 2)\n"
          ]
        }
      ]
    },
    {
      "cell_type": "code",
      "source": [
        "s1 = {1,2,3,4,5,6,6,4,4,}\n",
        "print(s1)\n",
        "\n",
        "l1 = [1,1,1,2,2,3,]\n",
        "print(l1)"
      ],
      "metadata": {
        "colab": {
          "base_uri": "https://localhost:8080/"
        },
        "id": "dfnJeImHtG50",
        "outputId": "6189ba91-3cdc-446a-9e34-2393014b66c8"
      },
      "execution_count": null,
      "outputs": [
        {
          "output_type": "stream",
          "name": "stdout",
          "text": [
            "{1, 2, 3, 4, 5, 6}\n",
            "[1, 1, 1, 2, 2, 3]\n"
          ]
        }
      ]
    }
  ]
}